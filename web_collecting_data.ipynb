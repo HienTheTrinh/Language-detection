{
 "cells": [
  {
   "cell_type": "markdown",
   "metadata": {},
   "source": [
    "# Prepare"
   ]
  },
  {
   "cell_type": "code",
   "execution_count": null,
   "metadata": {},
   "outputs": [],
   "source": [
    "from time import sleep\n",
    "from function import *\n",
    "from list_in_need import *"
   ]
  },
  {
   "cell_type": "markdown",
   "metadata": {},
   "source": [
    "# First turn"
   ]
  },
  {
   "cell_type": "code",
   "execution_count": null,
   "metadata": {},
   "outputs": [],
   "source": [
    "final_data = pd.DataFrame()"
   ]
  },
  {
   "cell_type": "code",
   "execution_count": null,
   "metadata": {},
   "outputs": [],
   "source": [
    "#content = check_length_list_string(normalize_list_string(delete_whitespace(content)), length=length_for_lang(lang))"
   ]
  },
  {
   "cell_type": "code",
   "execution_count": null,
   "metadata": {},
   "outputs": [],
   "source": [
    "for lang, url, delimeter in zip(language_sym[:10], url_list[:10], delimeter_list[:10]):\n",
    "    print(lang)\n",
    "    content = get_contents(url, 'p', delimeter)\n",
    "    content = delete_whitespace(normalize_list_string(check_length_list_string(content, length=length_for_lang(lang))))\n",
    "    links = get_links(url, 'p')\n",
    "    \n",
    "\n",
    "    for link in links:\n",
    "        new_url = f'https://{lang}.wikipedia.org{link}'\n",
    "        new_content = get_contents(new_url, 'p', delimeter)\n",
    "        content.extend(new_content)\n",
    "\n",
    "        content = delete_whitespace(normalize_list_string(check_length_list_string(content, length=length_for_lang(lang))))\n",
    "        content = list(dict.fromkeys(content))\n",
    "\n",
    "        if len(content) > 1000:\n",
    "            break\n",
    "\n",
    "    del content[1000:]\n",
    "    new_data = pd.DataFrame({'text': content, 'language': [lang_translate(lang)]*len(content)})\n",
    "    final_data = pd.concat([final_data, new_data], ignore_index=True)\n",
    "\n",
    "    sleep(15)"
   ]
  },
  {
   "cell_type": "code",
   "execution_count": null,
   "metadata": {},
   "outputs": [],
   "source": [
    "final_data"
   ]
  },
  {
   "cell_type": "markdown",
   "metadata": {},
   "source": [
    "# Second turn"
   ]
  },
  {
   "cell_type": "code",
   "execution_count": null,
   "metadata": {},
   "outputs": [],
   "source": [
    "for lang, url, delimeter in zip(language_sym[10:], url_list[10:], delimeter_list[10:]):\n",
    "    print(lang)\n",
    "    content = get_contents(url, 'p', delimeter)\n",
    "    content = delete_whitespace(normalize_list_string(check_length_list_string(content, length=length_for_lang(lang))))\n",
    "    links = get_links(url,'p')\n",
    "\n",
    "    for link in links:\n",
    "        new_url = f'https://{lang}.wikipedia.org{link}'\n",
    "        new_content = get_contents(new_url, 'p', delimeter)\n",
    "        content.extend(new_content)\n",
    "\n",
    "        content = delete_whitespace(normalize_list_string(check_length_list_string(content, length=length_for_lang(lang))))\n",
    "        content = list(dict.fromkeys(content))\n",
    "\n",
    "        if len(content) > 1000:\n",
    "            break\n",
    "\n",
    "    del content[1000:]\n",
    "    new_data = pd.DataFrame({'text': content, 'language': [lang_translate(lang)]*len(content)})\n",
    "    final_data = pd.concat([final_data, new_data], ignore_index=True)\n",
    "\n",
    "    sleep(15)"
   ]
  },
  {
   "cell_type": "code",
   "execution_count": null,
   "metadata": {},
   "outputs": [],
   "source": [
    "final_data"
   ]
  },
  {
   "cell_type": "code",
   "execution_count": null,
   "metadata": {},
   "outputs": [],
   "source": [
    "final_data.to_csv('final_data.csv', index=False)"
   ]
  }
 ],
 "metadata": {
  "interpreter": {
   "hash": "c0c0e07c99010b588743f6f451dc37a36d92848a5037f021dfc1852eb4c228db"
  },
  "kernelspec": {
   "display_name": "Python 3.10.4 ('web_crawling_data')",
   "language": "python",
   "name": "python3"
  },
  "language_info": {
   "codemirror_mode": {
    "name": "ipython",
    "version": 3
   },
   "file_extension": ".py",
   "mimetype": "text/x-python",
   "name": "python",
   "nbconvert_exporter": "python",
   "pygments_lexer": "ipython3",
   "version": "3.10.4"
  },
  "orig_nbformat": 4
 },
 "nbformat": 4,
 "nbformat_minor": 2
}
